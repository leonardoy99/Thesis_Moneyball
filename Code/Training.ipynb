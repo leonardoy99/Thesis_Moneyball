{
 "cells": [
  {
   "cell_type": "code",
   "execution_count": null,
   "id": "84e7567c-bb7c-463b-abd8-bc2fc870f414",
   "metadata": {},
   "outputs": [],
   "source": [
    "import warnings\n",
    "from pathlib import Path\n",
    "import os\n",
    "import pandas as pd\n",
    "import tqdm\n",
    "import random\n",
    "\n",
    "import socceraction.spadl as spadl\n",
    "import socceraction.atomic.spadl as atomicspadl\n",
    "import socceraction.atomic.vaep.features as fs\n",
    "import socceraction.atomic.vaep.labels as lab\n",
    "import socceraction.atomic.vaep.formula as vaepformula\n",
    "from socceraction.spadl.wyscout import convert_to_actions\n",
    "from socceraction.data.wyscout import PublicWyscoutLoader\n",
    "\n",
    "from sklearn.model_selection import train_test_split\n",
    "from sklearn.linear_model import LogisticRegression as logistic\n",
    "from sklearn.ensemble import RandomForestClassifier as rfc\n",
    "from catboost import CatBoostClassifier \n",
    "from xgboost import XGBClassifier as XGBc\n",
    "from sklearn.metrics import brier_score_loss, roc_auc_score, log_loss\n"
   ]
  },
  {
   "cell_type": "markdown",
   "id": "8fb8da7c-eb2a-4153-95b3-c5a09f5ba6ce",
   "metadata": {
    "tags": []
   },
   "source": [
    "# Preprocessing"
   ]
  },
  {
   "cell_type": "code",
   "execution_count": null,
   "id": "f365640d-fc4b-44d5-b895-0ec1a163b440",
   "metadata": {},
   "outputs": [],
   "source": [
    "wyscout = PublicWyscoutLoader(root = '/Users/leonardoyang/Desktop/Tesi/Wyscout/raw/data', download=False)"
   ]
  },
  {
   "cell_type": "code",
   "execution_count": null,
   "id": "854681f7-67c1-4047-8734-54fc8b076583",
   "metadata": {
    "tags": []
   },
   "outputs": [],
   "source": [
    "competitions = wyscout.competitions()\n",
    "competitions.info()"
   ]
  },
  {
   "cell_type": "code",
   "execution_count": null,
   "id": "63e45174-66ab-4280-ac08-1cc52bee35c0",
   "metadata": {},
   "outputs": [],
   "source": [
    "#Select competitions\n",
    "comp = ['European_Championship', 'World_Cup']\n",
    "#Info about selected competitions\n",
    "selected_competitions = competitions[(competitions['country_name'] =='International')]\n",
    "selected_competitions"
   ]
  },
  {
   "cell_type": "markdown",
   "id": "ae66ace8-3eb1-4be1-be96-5967c111fe41",
   "metadata": {
    "tags": []
   },
   "source": [
    "### Retrieve the scoreline of a game"
   ]
  },
  {
   "cell_type": "code",
   "execution_count": null,
   "id": "71cf9edf-dcc5-4876-b0e2-f7b38da84e4f",
   "metadata": {},
   "outputs": [],
   "source": [
    "dfs_matches = []\n",
    "#Retrieve matches of a selected competition\n",
    "for competition in comp:\n",
    "    competition_name = competition\n",
    "    file_matches = f'matches_{competition_name}.json'\n",
    "    df_matches = pd.read_json('/Users/leonardoyang/Desktop/Tesi/Wyscout/raw/Data/' + file_matches)\n",
    "    dfs_matches.append(df_matches)\n",
    "    \n",
    "#Create a unique dataframe containing all the selected games\n",
    "df_matches = pd.concat(dfs_matches)\n",
    "df_matches.reset_index(drop = True, inplace = True)\n",
    "df_matches.head()"
   ]
  },
  {
   "cell_type": "code",
   "execution_count": null,
   "id": "94b01dd2-b5cf-464c-88dc-6e372fb0b565",
   "metadata": {},
   "outputs": [],
   "source": [
    "#Extrapolate the scoreline of the game \n",
    "home_score, away_score = [],[]\n",
    "for i in range(len(df_matches)) : \n",
    "    home_id, away_id = df_matches['teamsData'][i].keys()\n",
    "    if df_matches['teamsData'][i][home_id]['side'] == 'away':\n",
    "        home_id, away_id = away_id, home_id\n",
    "    if df_matches['duration'][i] !='Regular':\n",
    "        home_score.append(df_matches['teamsData'][i][home_id]['scoreET'])\n",
    "        away_score.append(df_matches['teamsData'][i][away_id]['scoreET'])\n",
    "    else:    \n",
    "        home_score.append(df_matches['teamsData'][i][home_id]['score']+df_matches['teamsData'][i][home_id]['scoreET'])\n",
    "        away_score.append(df_matches['teamsData'][i][away_id]['score']+df_matches['teamsData'][i][away_id]['scoreET'])\n",
    "\n",
    "df_matches['home_score'] = home_score\n",
    "df_matches['away_score'] = away_score\n",
    "df_matches = df_matches[['seasonId','wyId','label','competitionId', 'home_score','away_score']]\n",
    "df_matches.rename(columns={'seasonId':'season_id', 'wyId':'game_id','competitionId':'competition_id'}, inplace = True)\n",
    "\n",
    "df_matches.head()"
   ]
  },
  {
   "cell_type": "code",
   "execution_count": null,
   "id": "e5684fdb-066a-4c79-814b-4ea44715d0fd",
   "metadata": {},
   "outputs": [],
   "source": [
    "# Get games  with goals from all selected competitions\n",
    "games = pd.concat([wyscout.games(row.competition_id, row.season_id) for row in selected_competitions.itertuples()])\n",
    "\n",
    "match_goals = pd.merge(games, df_matches, on =['game_id','competition_id','season_id'])\n",
    "match_goals.drop(['label'],axis = 1, inplace = True)\n",
    "games = match_goals\n",
    "\n",
    "games[[\"home_team_id\", \"away_team_id\", \"game_date\",\"home_score\", \"away_score\"]]"
   ]
  },
  {
   "cell_type": "code",
   "execution_count": null,
   "id": "1ae93b29-1b18-45a2-af57-3e73f86fa00c",
   "metadata": {},
   "outputs": [],
   "source": [
    "games.info()"
   ]
  },
  {
   "cell_type": "markdown",
   "id": "e1c2af72-e476-48fb-b1af-7eded4bd00eb",
   "metadata": {
    "tags": []
   },
   "source": [
    "# SPADL"
   ]
  },
  {
   "cell_type": "raw",
   "id": "015ba56a-6d33-46b5-9304-5be7602fbe50",
   "metadata": {
    "tags": []
   },
   "source": [
    "#Convert events to SPADL \n",
    "games_verbose = tqdm.tqdm(list(games.itertuples()), desc=\"Loading game data\")\n",
    "teams, players = [], []\n",
    "actions = {}\n",
    "atomic_actions = {}\n",
    "\n",
    "for game in games_verbose:\n",
    "    # load data\n",
    "    teams.append(wyscout.teams(game.game_id))\n",
    "    players.append(wyscout.players(game.game_id))\n",
    "    events = wyscout.events(game.game_id)\n",
    "    # convert data\n",
    "    actions[game.game_id] = convert_to_actions(events, game.home_team_id)\n",
    "    atomic_actions[game.game_id] = atomicspadl.convert_to_atomic(actions[game.game_id])\n",
    "\n",
    "teams = pd.concat(teams).drop_duplicates(subset=\"team_id\")\n",
    "players = pd.concat(players)"
   ]
  },
  {
   "cell_type": "code",
   "execution_count": null,
   "id": "a81b1d30-8cc2-438d-b635-68586fea7ae3",
   "metadata": {},
   "outputs": [],
   "source": [
    "#Store everything in the HDF\n",
    "datafolder = \"/Users/leonardoyang/Desktop/data-fifa/training\""
   ]
  },
  {
   "cell_type": "raw",
   "id": "862350a7-1553-4f2d-a451-9ce851dbd975",
   "metadata": {
    "tags": []
   },
   "source": [
    "# Create data folder if it doesn't exist\n",
    "if not os.path.exists(datafolder):\n",
    "    os.mkdir(datafolder)\n",
    "    print(f\"Directory {datafolder} created.\")\n",
    "\n",
    "spadl_h5 = os.path.join(datafolder, \"atomic_spadl-wyscout.h5\")\n",
    "\n",
    "# Store all spadl data in h5-file\n",
    "with pd.HDFStore(spadl_h5) as spadlstore:\n",
    "    spadlstore[\"competitions\"] = selected_competitions\n",
    "    spadlstore[\"games\"] = games\n",
    "    spadlstore[\"teams\"] =\n",
    "    teams\n",
    "    spadlstore[\"players\"] = players[['player_id', 'player_name', 'nickname']].drop_duplicates(subset='player_id')\n",
    "    spadlstore[\"player_games\"] = players[['player_id', 'game_id', 'team_id', 'is_starter', 'minutes_played']]\n",
    "    for game_id in actions.keys():\n",
    "        spadlstore[f\"actions/game_{game_id}\"] = atomic_actions[game_id]"
   ]
  },
  {
   "cell_type": "code",
   "execution_count": null,
   "id": "72b1cfdd-0506-4b67-be6a-dde5774a2685",
   "metadata": {},
   "outputs": [],
   "source": [
    "#To upload the DF\n",
    "spadl_h5 = os.path.join(datafolder, \"atomic_spadl-wyscout.h5\")"
   ]
  },
  {
   "cell_type": "code",
   "execution_count": null,
   "id": "167199f7-be84-4dc1-ae9c-e48505c7f9ab",
   "metadata": {},
   "outputs": [],
   "source": [
    "pd.HDFStore(spadl_h5)['teams'].reset_index().drop('index', axis =1)['team_name'].unique()"
   ]
  },
  {
   "cell_type": "code",
   "execution_count": null,
   "id": "bfca6a37-1f4f-41bf-a4f1-3bd57d04e621",
   "metadata": {
    "tags": []
   },
   "outputs": [],
   "source": [
    "#Here an example of SPADL action\n",
    "with pd.HDFStore(spadl_h5) as spadlstore:\n",
    "    games = (\n",
    "        spadlstore[\"games\"]\n",
    "        .merge(spadlstore[\"competitions\"], how='left')\n",
    "        .merge(spadlstore[\"teams\"].add_prefix('home_'), how='left')\n",
    "        .merge(spadlstore[\"teams\"].add_prefix('away_'), how='left'))\n",
    "    # Select Portugal vs France game at Euro 2016\n",
    "    game = games[(games.home_team_name_short == \"Portugal\") & (games.away_team_name_short== \"France\")]\n",
    "    game_id = game.game_id.values[0]\n",
    "    #Get actions for the selected match\n",
    "    atomic_actions = spadlstore[f\"actions/game_{game_id}\"]\n",
    "    atomic_actions = (\n",
    "        atomic_actions\n",
    "        .merge(atomicspadl.actiontypes_df(), how=\"left\")\n",
    "        .merge(spadl.bodyparts_df(), how=\"left\")\n",
    "        .merge(spadlstore[\"players\"], how=\"left\")\n",
    "        .merge(spadlstore[\"teams\"], how=\"left\")\n",
    "    )\n",
    "\n",
    "# use nickname if available else use full name\n",
    "atomic_actions[\"player_name\"] = atomic_actions[[\"nickname\", \"player_name\"]].apply(lambda x: x[0] if x[0] else x[1],axis=1)\n",
    "del atomic_actions['nickname']\n",
    "atomic_actions[2930:2938]"
   ]
  },
  {
   "cell_type": "code",
   "execution_count": null,
   "id": "5d301b56-d98e-4d99-bb15-e49eeadfbe81",
   "metadata": {
    "tags": []
   },
   "outputs": [],
   "source": [
    "#Plot\n",
    "import matplotsoccer\n",
    "for shot in list(atomic_actions[(atomic_actions.type_name == \"goal\")].index):\n",
    "    a = atomic_actions[shot-7:shot+1].copy()\n",
    "\n",
    "    a[\"start_x\"] = a.x\n",
    "    a[\"start_y\"] = a.y\n",
    "    a[\"end_x\"] = a.x + a.dx\n",
    "    a[\"end_y\"] = a.y + a.dy\n",
    "\n",
    "    g = game.iloc[0]\n",
    "    if a.period_id.values[0] > 2:\n",
    "        minute = int(90 + (a.period_id.values[0] - 3) * 15 + a.time_seconds.values[0] // 60)\n",
    "    else:\n",
    "        minute = int((a.period_id.values[0] - 1) * 45 + a.time_seconds.values[0] // 60)\n",
    "        \n",
    "    game_info = f\"{g.game_date}, {g.home_team_name} - {g.away_team_name} : {g.home_score}-{g.away_score} , {a[-1:].player_name.values[0]} {minute + 1}'\"\n",
    "    print(game_info)\n",
    "\n",
    "    def nice_time(row):\n",
    "        if a.period_id.values[0] > 2:\n",
    "            minute = int(90 + (a.period_id.values[0] - 3) * 15 + a.time_seconds.values[0] // 60)\n",
    "        else:\n",
    "            minute = int((a.period_id.values[0] - 1) * 45 + a.time_seconds.values[0] // 60)\n",
    "        second = int(row.time_seconds % 60)\n",
    "        return f\"{minute}m{second}s\"\n",
    "\n",
    "    a[\"nice_time\"] = a.apply(nice_time,axis=1)\n",
    "    labels = a[[\"nice_time\", \"type_name\", \"player_name\", \"team_name\"]]\n",
    "\n",
    "    matplotsoccer.actions(\n",
    "        location=a[[\"start_x\", \"start_y\", \"end_x\", \"end_y\"]],\n",
    "        action_type=a.type_name,\n",
    "        team= a.team_name,\n",
    "        label=labels,\n",
    "        labeltitle=[\"time\", \"actiontype\", \"player_name\", \"team\"],\n",
    "        zoom=False,\n",
    "        figsize=6\n",
    "    )"
   ]
  },
  {
   "cell_type": "markdown",
   "id": "a1c23474-84c9-4bfc-b21d-f50a3ac15acf",
   "metadata": {},
   "source": [
    "# Compute features and labels"
   ]
  },
  {
   "cell_type": "code",
   "execution_count": null,
   "id": "53ee8fec-6ddb-419a-b8aa-a9482379cf7a",
   "metadata": {},
   "outputs": [],
   "source": [
    "#Directory path\n",
    "features_h5 = os.path.join(datafolder, \"atomic_features.h5\")\n",
    "labels_h5 = os.path.join(datafolder, \"atomic_labels.h5\")"
   ]
  },
  {
   "cell_type": "code",
   "execution_count": null,
   "id": "0b77eabf-46f2-488b-869f-0985412485b9",
   "metadata": {},
   "outputs": [],
   "source": [
    "#Total games\n",
    "games = pd.HDFStore(spadl_h5)['games']\n",
    "print(\"nb of games:\", len(games))"
   ]
  },
  {
   "cell_type": "code",
   "execution_count": null,
   "id": "d899c1c4-1cfe-4a6b-aa2a-1a318bf2bfd5",
   "metadata": {},
   "outputs": [],
   "source": [
    "#Get features \n",
    "xfns = [ fs.actiontype,\n",
    "    fs.actiontype_onehot,\n",
    "    fs.bodypart,\n",
    "    fs.bodypart_onehot,\n",
    "    fs.goalscore,\n",
    "    fs.location,\n",
    "    fs.movement_polar,\n",
    "    fs.polar,\n",
    "    fs.direction,\n",
    "    fs.team,\n",
    "    fs.time,\n",
    "    fs.time_delta]\n",
    "\n",
    "with pd.HDFStore(spadl_h5) as spadlstore, pd.HDFStore(features_h5) as featurestore:\n",
    "    for game in tqdm.tqdm(list(games.itertuples()),desc=f\"Generating and storing features in {features_h5}\"):\n",
    "        actions = spadlstore[f\"actions/game_{game.game_id}\"] #Get actions for each game\n",
    "        gamestates = fs.gamestates(atomicspadl.add_names(actions), 3) # Consider last 3 actions. Creates lags -1 and -2.\n",
    "        gamestates = fs.play_left_to_right(gamestates, game.home_team_id)\n",
    "\n",
    "        X = pd.concat([fn(gamestates) for fn in xfns], axis=1) \n",
    "        featurestore[f\"game_{game.game_id}\"] = X"
   ]
  },
  {
   "cell_type": "code",
   "execution_count": null,
   "id": "e97039af-021e-4e06-bda2-1533e643e584",
   "metadata": {},
   "outputs": [],
   "source": [
    "#Get labels\n",
    "yfns = [lab.scores, lab.concedes, lab.goal_from_shot]\n",
    "\n",
    "with pd.HDFStore(spadl_h5) as spadlstore, pd.HDFStore(labels_h5) as labelstore:\n",
    "    for game in tqdm.tqdm(list(games.itertuples()), desc=f\"Computing and storing labels in {labels_h5}\"):\n",
    "        actions = spadlstore[f\"actions/game_{game.game_id}\"]\n",
    "        Y = pd.concat([fn(atomicspadl.add_names(actions)) for fn in yfns], axis=1)\n",
    "        labelstore[f\"game_{game.game_id}\"] = Y"
   ]
  },
  {
   "cell_type": "code",
   "execution_count": null,
   "id": "cd7588f1-93cb-4c35-b4e4-213e890abd42",
   "metadata": {},
   "outputs": [],
   "source": [
    "#Example of final framework\n",
    "print('Features')\n",
    "display( pd.HDFStore(features_h5)[\"game_2057954\"].head()) #With lags -1,-2.\n",
    "print('Labels')\n",
    "display(pd.HDFStore(labels_h5)[\"game_2057954\"].head())"
   ]
  },
  {
   "cell_type": "code",
   "execution_count": null,
   "id": "71564576-3f9d-4ef8-9357-56d55639050c",
   "metadata": {
    "jupyter": {
     "source_hidden": true
    },
    "tags": []
   },
   "outputs": [],
   "source": [
    "#Labels\n",
    "#goal = True if goal from a shot. Non mi sembra venga usato dopo\n",
    "#Score = True if within next 10 actions goal\n",
    "#concedes = True if within next 10 actions goal\n",
    "#Chi ha palla è score, se durante azione c'è qualche intervento avversario c'è concedes = true.\n",
    "#Goal è true solo se shot, score e concedes ci sono comunque."
   ]
  },
  {
   "cell_type": "markdown",
   "id": "cf0be948-954f-4688-a1df-fa6c39ffff25",
   "metadata": {
    "tags": []
   },
   "source": [
    "# Model training"
   ]
  },
  {
   "cell_type": "code",
   "execution_count": null,
   "id": "efa9ba34-6b62-414c-8305-7e3b838f53e7",
   "metadata": {},
   "outputs": [],
   "source": [
    "#Directory path\n",
    "predictions_h5 = os.path.join(datafolder, \"atomic-predictions-one-action.h5\")"
   ]
  },
  {
   "cell_type": "code",
   "execution_count": null,
   "id": "e1db5066-2536-4814-971f-6e6704958125",
   "metadata": {},
   "outputs": [],
   "source": [
    "#Split in train and test sets\n",
    "traingames, testgames = train_test_split(games, test_size=0.3, random_state=42, shuffle=True)\n",
    "traingames.head()"
   ]
  },
  {
   "cell_type": "code",
   "execution_count": null,
   "id": "05ccc9f5-7b46-4c1c-9671-5be63303db5e",
   "metadata": {},
   "outputs": [],
   "source": [
    "# 1. Select feature set X\n",
    "xfns = [\n",
    "    fs.actiontype_onehot,\n",
    "    fs.bodypart_onehot,\n",
    "    fs.goalscore,\n",
    "    fs.location,\n",
    "    fs.polar,\n",
    "    fs.movement_polar,\n",
    "    fs.direction,\n",
    "    fs.team,\n",
    "    fs.time,\n",
    "    fs.time_delta\n",
    "]\n",
    "nb_prev_actions = 3\n",
    "Xcols = fs.feature_column_names(xfns, nb_prev_actions)\n",
    "\n",
    "#Function to select features and label of games\n",
    "def getXY(games, Xcols):\n",
    "    # generate the columns of the selected feature\n",
    "    X = []\n",
    "    for game_id in tqdm.tqdm(games.game_id, desc=\"Selecting features\"): #aggiungi azioni di ogni partita\n",
    "        Xi = pd.HDFStore(features_h5) [f\"game_{game_id}\"]\n",
    "        X.append(Xi[Xcols])\n",
    "    X = pd.concat(X).reset_index(drop=True)\n",
    "\n",
    "    # 2. Select label Y\n",
    "    Ycols = [\"scores\", \"concedes\"]\n",
    "    Y = []\n",
    "    for game_id in tqdm.tqdm(games.game_id, desc=\"Selecting label\"):\n",
    "        Yi = pd.HDFStore(labels_h5)[f\"game_{game_id}\"]\n",
    "        Y.append(Yi[Ycols])\n",
    "    Y = pd.concat(Y).reset_index(drop=True)\n",
    "    return X, Y"
   ]
  },
  {
   "cell_type": "code",
   "execution_count": null,
   "id": "73ef5b73-cd6b-48b7-bfb1-61806de4f914",
   "metadata": {},
   "outputs": [],
   "source": [
    "#Function to evaluate predictions\n",
    "def evaluate(models):\n",
    "    Y_hat = pd.DataFrame()\n",
    "    for col in testY.columns:\n",
    "        Y_hat[col] = [p[1] for p in models[col].predict_proba(testX)] #[1] = prob of True\n",
    "        print(f\"### Y: {col} ###\")\n",
    "        p = sum(testY[col]) / len(testY[col])\n",
    "        base = [p] * len(testY[col])\n",
    "        brier = brier_score_loss(testY[col], Y_hat[col])\n",
    "        print(f\"  Brier score: %.5f (%.5f)\" % (brier, brier / brier_score_loss(testY[col], base)))\n",
    "        ll = log_loss(testY[col], Y_hat[col])\n",
    "        print(f\"  log loss score: %.5f (%.5f)\" % (ll, ll / log_loss(testY[col], base)))\n",
    "        print(f\"  ROC AUC: %.5f\" % roc_auc_score(testY[col], Y_hat[col]))"
   ]
  },
  {
   "cell_type": "code",
   "execution_count": null,
   "id": "8906bd56-d96a-437a-a3a1-d2c41233e73f",
   "metadata": {},
   "outputs": [],
   "source": [
    "#Retrieve features and labels for both train and test games.\n",
    "print('Train games')\n",
    "X,Y = getXY(traingames, Xcols)\n",
    "X = X.fillna(0)\n",
    "#test\n",
    "print('Test games')\n",
    "testX, testY = getXY(testgames,Xcols)"
   ]
  },
  {
   "cell_type": "code",
   "execution_count": null,
   "id": "8c7bdee5-a730-4a9c-bf50-d868d306dde6",
   "metadata": {
    "jupyter": {
     "source_hidden": true
    },
    "tags": []
   },
   "outputs": [],
   "source": [
    "#'goalscore_team','goalscore_opponent' = goal segnati fin'ora dalla squadra che fa l'ultima azione."
   ]
  },
  {
   "cell_type": "code",
   "execution_count": null,
   "id": "072fd1d3-2813-4f80-84f5-aaf0b004d52a",
   "metadata": {
    "tags": []
   },
   "outputs": [],
   "source": [
    "%%time\n",
    "#Logistic regression\n",
    "log = {}\n",
    "for col in list(Y.columns):\n",
    "    model = logistic(random_state = 42)\n",
    "    model.fit(X, Y[col])\n",
    "    log[col] = model\n",
    "\n",
    "print('Logistic Regression:')\n",
    "evaluate(log)"
   ]
  },
  {
   "cell_type": "code",
   "execution_count": null,
   "id": "271c2154-6dcd-495b-8545-20d91e855d7e",
   "metadata": {},
   "outputs": [],
   "source": [
    "%%time\n",
    "# 3. train classifiers F(X) = Y\n",
    "\n",
    "Y_hat = pd.DataFrame()\n",
    "boosting = {}\n",
    "for col in list(Y.columns):\n",
    "    model = XGBc(n_estimators=100, max_depth=5,random_state = 42)\n",
    "    model.fit(X, Y[col])\n",
    "    boosting[col] = model\n",
    "\n",
    "print('XGBoosting:')\n",
    "evaluate(boosting)"
   ]
  },
  {
   "cell_type": "code",
   "execution_count": null,
   "id": "6ccc0a5f-ffcc-4d51-bc84-3c642048f157",
   "metadata": {},
   "outputs": [],
   "source": [
    "%%time\n",
    "# 3. train classifiers F(X) = Y\n",
    "\n",
    "Y_hat = pd.DataFrame()\n",
    "forest = {}\n",
    "for col in list(Y.columns):\n",
    "    model = rfc(n_estimators=100, random_state = 42)\n",
    "    model.fit(X, Y[col])\n",
    "    forest[col] = model\n",
    "\n",
    "print('Random forest:')\n",
    "evaluate(forest)"
   ]
  },
  {
   "cell_type": "code",
   "execution_count": null,
   "id": "c1049f6f-cc54-4ea9-b13f-cb50ba6e9b74",
   "metadata": {},
   "outputs": [],
   "source": [
    "%%time\n",
    "#4. Catboost\n",
    "cat = {}\n",
    "for col in list(Y.columns):\n",
    "    model = CatBoostClassifier(n_estimators=100, max_depth=5, random_state = 42, verbose = 0)\n",
    "    model.fit(X, Y[col])\n",
    "    cat[col] = model\n",
    "\n",
    "print('CatBoost:')\n",
    "evaluate(cat)"
   ]
  },
  {
   "cell_type": "code",
   "execution_count": null,
   "id": "5f2ba73c-155a-4aa6-8b54-d781dde8a5ec",
   "metadata": {},
   "outputs": [],
   "source": [
    "# Non mi interessa predire quando ci sarà un goal. Predice le probabilità prima del goal --> pericolosità di un'azione."
   ]
  },
  {
   "cell_type": "code",
   "execution_count": null,
   "id": "cc388b91-7b63-427c-8d08-f02603fea95b",
   "metadata": {},
   "outputs": [],
   "source": []
  },
  {
   "cell_type": "code",
   "execution_count": null,
   "id": "9c07a4bf-817d-4b1f-af2e-397a8f803b02",
   "metadata": {},
   "outputs": [],
   "source": [
    "#Predict probabilities using Catboost and save predictions\n",
    "Y_hat = pd.DataFrame()\n",
    "for col in testY.columns:\n",
    "        Y_hat[col] = [p[1] for p in cat[col].predict_proba(testX)] #[1] = prob of True\n",
    "\n",
    "# Get rows with game id per action\n",
    "A = []\n",
    "for game_id in tqdm.tqdm(testgames.game_id, \"Loading actions of each game\"):  \n",
    "    Ai = pd.HDFStore(spadl_h5) [f\"actions/game_{game_id}\"]\n",
    "    A.append(Ai[[\"game_id\"]])\n",
    "A = pd.concat(A)\n",
    "A = A.reset_index(drop=True)\n",
    "\n",
    "# Concatenate action game id rows with predictions and save per game\n",
    "grouped_predictions = pd.concat([A, Y_hat], axis=1).groupby(\"game_id\")\n",
    "for k,df in tqdm.tqdm(grouped_predictions, desc=\"Saving predictions per game\"):\n",
    "    df = df.reset_index(drop=True)\n",
    "    df[Y_hat.columns].to_hdf(predictions_h5, f\"game_{int(k)}\")"
   ]
  },
  {
   "cell_type": "markdown",
   "id": "df4c3e23-4bd7-4c84-a7b8-95e63af67867",
   "metadata": {
    "tags": []
   },
   "source": [
    "# VAEP"
   ]
  },
  {
   "cell_type": "code",
   "execution_count": null,
   "id": "d42d31e1-29e2-45b8-9c47-1836a21a547f",
   "metadata": {},
   "outputs": [],
   "source": [
    "with pd.HDFStore(spadl_h5) as spadlstore:\n",
    "    games = (\n",
    "        spadlstore[\"games\"]\n",
    "        .merge(spadlstore[\"competitions\"], how='left')\n",
    "        .merge(spadlstore[\"teams\"].add_prefix('home_'), how='left')\n",
    "        .merge(spadlstore[\"teams\"].add_prefix('away_'), how='left'))\n",
    "    players = spadlstore[\"players\"]\n",
    "    teams = spadlstore[\"teams\"]\n",
    "print(\"nb of games:\", len(testgames))"
   ]
  },
  {
   "cell_type": "code",
   "execution_count": null,
   "id": "dc5b7522-0447-44b9-96aa-2fa444fc474d",
   "metadata": {},
   "outputs": [],
   "source": [
    "#For each game in the test set, append the predictions and compute vaep\n",
    "A = []\n",
    "for game in tqdm.tqdm(list(testgames.itertuples()), desc=\"Loading actions\"):\n",
    "    actions = pd.HDFStore(spadl_h5) [f\"actions/game_{game.game_id}\"]\n",
    "    actions = (\n",
    "        atomicspadl.add_names(actions)\n",
    "        .merge(players, how=\"left\")\n",
    "        .merge(teams, how=\"left\",)\n",
    "        .sort_values([\"game_id\", \"period_id\", \"action_id\"])\n",
    "        .reset_index(drop=True)\n",
    "    )\n",
    "    preds = pd.HDFStore(predictions_h5) [f\"game_{game.game_id}\"]\n",
    "    values = vaepformula.value(actions, preds.scores, preds.concedes)\n",
    "    A.append(pd.concat([actions, preds, values], axis=1))\n",
    "A = pd.concat(A).sort_values([\"game_id\", \"period_id\", \"time_seconds\"]).reset_index(drop=True)\n",
    "A.columns"
   ]
  },
  {
   "cell_type": "code",
   "execution_count": null,
   "id": "c3c61e1f-f4e8-4994-8fcc-0a3f69caf566",
   "metadata": {},
   "outputs": [],
   "source": [
    "#Retrieve roles for each player\n",
    "df_players = pd.read_json('/Users/leonardoyang/Desktop/Tesi/Wyscout/raw/players.json')\n",
    "df_players = df_players[['wyId','shortName','role','currentTeamId']]\n",
    "Role = []\n",
    "for i in range(len(df_players)):\n",
    "    Role.append(df_players['role'][i]['name'])\n",
    "\n",
    "df_players['Role'] = Role\n",
    "df_players.drop('role', axis = 1,inplace = True)"
   ]
  },
  {
   "cell_type": "code",
   "execution_count": null,
   "id": "f3ba5836-aec5-44d7-b261-af78bad07acc",
   "metadata": {},
   "outputs": [],
   "source": [
    "A[\"count\"] = 1\n",
    "\n",
    "# Compute each player's number of actions and total VAEP values\n",
    "playersR = (\n",
    "    A[[\"player_id\",\"team_name\", \"vaep_value\", \"offensive_value\", \"defensive_value\", \"count\"]]\n",
    "    .groupby([\"team_name\",\"player_id\"])\n",
    "    .sum()\n",
    "    .reset_index()\n",
    ")\n",
    "# Add player names\n",
    "playersR = playersR.merge(players[[\"player_id\", \"nickname\", \"player_name\"]], how=\"left\")\n",
    "playersR = pd.merge(playersR, df_players, left_on ='player_id', right_on = 'wyId', how = 'left').drop(['wyId','shortName'], axis = 1)\n",
    "playersR[\"player_name\"] = playersR[[\"nickname\", \"player_name\"]].apply(lambda x: x[0] if x[0] else x[1],axis=1)\n",
    "# Show results\n",
    "playersR = playersR[[\"player_id\", \"player_name\",\"Role\", \"team_name\",\"vaep_value\", \"offensive_value\", \"defensive_value\", \"count\"]]\n",
    "playersR.sort_values(\"vaep_value\", ascending=False)[:10]"
   ]
  },
  {
   "cell_type": "code",
   "execution_count": null,
   "id": "a1c2b1a8-06bc-413f-8c86-15c43d30d772",
   "metadata": {
    "tags": []
   },
   "outputs": [],
   "source": [
    "# Normalize for minutes played\n",
    "pg = pd.HDFStore(spadl_h5) [\"player_games\"]\n",
    "pg = pg[pg.game_id.isin(games.game_id)]\n",
    "mp = pg[[\"player_id\", \"minutes_played\"]].groupby(\"player_id\").sum().reset_index()\n",
    "\n",
    "stats = playersR.merge(mp)\n",
    "stats = stats[stats.minutes_played > 270] # at least 3 full games played\n",
    "stats[\"vaep_rating\"] = stats.vaep_value * 90 / stats.minutes_played\n",
    "stats[\"offensive_rating\"] = stats.offensive_value * 90 / stats.minutes_played\n",
    "stats[\"defensive_rating\"] = stats.defensive_value * 90 / stats.minutes_played\n",
    "stats.sort_values(\"vaep_rating\",ascending=False)[:10]"
   ]
  },
  {
   "cell_type": "markdown",
   "id": "0ae20efe-1dce-4c43-bcd5-f3fa5cfce0d1",
   "metadata": {},
   "source": [
    "# Train model on whole dataset"
   ]
  },
  {
   "cell_type": "code",
   "execution_count": null,
   "id": "be248df8-49d5-45fe-9518-e194069f9bbb",
   "metadata": {},
   "outputs": [],
   "source": [
    "#Features and labels of all games\n",
    "X,Y = getXY(games, Xcols)"
   ]
  },
  {
   "cell_type": "code",
   "execution_count": null,
   "id": "15ee60c6-2853-4f10-91f2-d956b3f6946a",
   "metadata": {},
   "outputs": [],
   "source": [
    "%%time\n",
    "# 3. train classifiers F(X) = Y\n",
    "Y_hat = pd.DataFrame()\n",
    "models = {}\n",
    "for col in list(Y.columns):\n",
    "    model = CatBoostClassifier(n_estimators=100, max_depth=5, random_state = 42, verbose = False)\n",
    "    model.fit(X, Y[col])\n",
    "    models[col] = model"
   ]
  },
  {
   "cell_type": "code",
   "execution_count": null,
   "id": "04846ba7-353a-43f2-ba49-8588fc5a5fe3",
   "metadata": {},
   "outputs": [],
   "source": [
    "import pickle\n",
    "filename = 'trained_model.sav'\n",
    "pickle.dump(models, open(filename, 'wb'))"
   ]
  },
  {
   "cell_type": "code",
   "execution_count": null,
   "id": "8ca7b777-2318-4393-8ea0-cf3655c7f273",
   "metadata": {},
   "outputs": [],
   "source": []
  }
 ],
 "metadata": {
  "kernelspec": {
   "display_name": "Python 3 (ipykernel)",
   "language": "python",
   "name": "python3"
  },
  "language_info": {
   "codemirror_mode": {
    "name": "ipython",
    "version": 3
   },
   "file_extension": ".py",
   "mimetype": "text/x-python",
   "name": "python",
   "nbconvert_exporter": "python",
   "pygments_lexer": "ipython3",
   "version": "3.9.7"
  }
 },
 "nbformat": 4,
 "nbformat_minor": 5
}
